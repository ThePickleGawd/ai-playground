{
 "cells": [
  {
   "cell_type": "code",
   "execution_count": 33,
   "metadata": {},
   "outputs": [],
   "source": [
    "import torch\n",
    "import matplotlib.pyplot as plt"
   ]
  },
  {
   "cell_type": "code",
   "execution_count": 40,
   "metadata": {},
   "outputs": [
    {
     "name": "stdout",
     "output_type": "stream",
     "text": [
      "torch.Size([3, 3]) torch.Size([3, 2])\n",
      "torch.Size([3, 2, 3])\n",
      "tensor([[[4., 5., 6.],\n",
      "         [7., 8., 9.]],\n",
      "\n",
      "        [[1., 2., 3.],\n",
      "         [4., 5., 6.]],\n",
      "\n",
      "        [[7., 8., 9.],\n",
      "         [1., 2., 3.]]])\n"
     ]
    }
   ],
   "source": [
    "X = torch.tensor([[1,2,3],[4,5,6],[7,8,9]]).float()\n",
    "X.mean(0)\n",
    "C = torch.tensor([[1,2],[0,1],[-1,0]])\n",
    "\n",
    "print(X.shape, C.shape)\n",
    "print(X[C].shape)\n",
    "print(X[C])"
   ]
  }
 ],
 "metadata": {
  "kernelspec": {
   "display_name": ".venv",
   "language": "python",
   "name": "python3"
  },
  "language_info": {
   "codemirror_mode": {
    "name": "ipython",
    "version": 3
   },
   "file_extension": ".py",
   "mimetype": "text/x-python",
   "name": "python",
   "nbconvert_exporter": "python",
   "pygments_lexer": "ipython3",
   "version": "3.12.4"
  }
 },
 "nbformat": 4,
 "nbformat_minor": 2
}
